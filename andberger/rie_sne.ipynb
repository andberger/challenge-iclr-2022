{
 "cells": [
  {
   "cell_type": "code",
   "execution_count": 2,
   "id": "049505dd",
   "metadata": {},
   "outputs": [],
   "source": [
    "import os\n",
    "import sys\n",
    "import warnings\n",
    "import numpy as np\n",
    "\n",
    "sys.path.append(os.path.dirname(os.getcwd()))\n",
    "warnings.filterwarnings('ignore')"
   ]
  },
  {
   "cell_type": "markdown",
   "id": "88df542a",
   "metadata": {},
   "source": [
    "# Rie-SNE"
   ]
  },
  {
   "cell_type": "markdown",
   "id": "e29ac715",
   "metadata": {},
   "source": [
    "**Authors:** Andri Bergsson and Søren Hauberg \n",
    "\n",
    "**Affiliation:** Technical University of Denmark, Lyngby\n",
    "\n",
    "# 1. Introduction and motivation\n",
    "\n",
    "  Visualizations are crucial to investigators trying to make sense of high-dimensional data. The most common output of a visualization is a two-dimensional plot (e.g. on a piece of paper or a computer screen), so we often call on a form of dimensionality reduction when working with high-dimensional data. The vast majority of dimensionality reduction techniques assume that data resides on a Euclidean domain, which presents a problem when data is not quite that simple. Data residing on Riemannian manifolds, such as the sphere, appear in many domains where either known constraints or other modeling assumptions impose a Riemannian structure . In such settings, how should one visualize data?\n",
    "  \n",
    "  There are many concerns and questions when visualizing Riemannian data. The first is generic: all dimensionality reduction tools amplify parts of the signal, while reducing the remainder. This is an inherent limitation, which should always be in mind when interpreting data visualizations. Since some loss of information is inevitable, should we then loosen our grip on the data or its underlying Riemannian structure when such is present? Gauss's *Theorema Egregium* informs us that if the final plot is to be presented on a *flat* screen or piece of paper, then a distortion of the Riemannian structure is inevitable.\n",
    "  \n",
    "  In practice, even if one accepts the limitations of a visualization, actual algorithms for visualizing Riemannian data are missing. In this paper, we develop an extension of the *Stochastic Neighbor Embedding* method to Riemannian data and thereby provide one such tool. We call this *Riemannian Stochastic Neighbor Embedding*, or *Rie-SNE* for short. Our approach is quite general as it allows for embedding data observed on one Riemannian manifold to be embedded on another. This allows for mapping data from a Riemannian space to a two-dimensional Euclidean plane (for plotting), but also mapping to a two-dimensional sphere, or similar, when the Euclidean topology is inappropriate. Rie-SNE does not claim to solve the above-mentioned limitations of visualization, but it does provide a working tool, which we demonstrate to have practical merit.\n",
    "  \n",
    "<br></br>\n",
    "<div>\n",
    "<img src=\"img/intro_figure.svg\" width=\"500\"/>\n",
    "</div>\n"
   ]
  },
  {
   "cell_type": "markdown",
   "id": "7f6f538c",
   "metadata": {},
   "source": [
    "# 2. Related Works"
   ]
  },
  {
   "cell_type": "markdown",
   "id": "b83ba3bc",
   "metadata": {},
   "source": [
    "## Stochastic neighbor embedding\n",
    "*Stochastic neighbor embedding (SNE)* is a dimensionality reduction tool, which aims to preserve similarity between neighboring points when mapped to a low-dimensional representation. Assume for now, that we have access to function $s_{\\text{high}}$ and $s_{\\text{low}}$, which measure the similarity between observation pairs in the high-dimensional observation space and the low-dimensional representation space, respectively.\n",
    "\n",
    "Now define the conditional probability, $p_{j|i}$ that $x_i$ would pick $x_j$ as its neighbor\n",
    "\\begin{align}\n",
    "  p_{j|i} = \\frac{s_{\\text{high}}(x_j | x_i)}{\\sum_{k \\ne i} s_{\\text{high}}(x_k | x_i)}.\n",
    "  \\label{hdimp2}\n",
    "\\end{align}\n",
    "Common convention is to define $p{i|i} = 0$. Further note that $\\sum_j p_{j|i} = 1$. We can renormalize this to form a distribution over all observations as\n",
    "\\begin{gather}\n",
    "  p_{ij} = \\frac{p_{j|i} + p_{i|j}}{2n},\n",
    "  \\label{hdimp1}\n",
    "\\end{gather}\n",
    " where $n$ is the number of observations.\n",
    "    \n",
    "To learn a low-dimensional representation, the key idea is to repeat the above over the low-dimensional space to form\n",
    "    \\begin{align}\n",
    "      q_{j|i} &= \\frac{s_{\\text{low}}(y_j | y_i)}{\\sum_{k \\ne i} s_{\\text{low}}(y_k | y_i)}, \\\\\n",
    "      q_{ij}  &= \\frac{q_{j|i} + q_{i|j}}{2n}.\n",
    "    \\end{align}\n",
    "    We can now compare the similarity of our data and the representation by computing the Kullback-Leibler divergence between $p_{ij}$ and $q_{ij}$,\n",
    "    \\begin{align}\n",
    "      C = \\mathrm{KL}\\left( P || Q \\right) = \\sum_{i=1}^n \\sum_{j=1}^n p_{ij} \\log \\frac{p_{ij}}{q_{ij}}.\n",
    "    \\end{align}\n",
    "    This can then be minimized using gradient descent with respect to the low-dimensional representation $\\{ y_i \\}_{i=1}^n$.\n",
    "\n",
    "In its classic form, SNE picks the measures of similarity as Gaussian functions\n",
    "    \\begin{align}\n",
    "    \\begin{split}\n",
    "      s_{\\text{high}}(x_j | x_i)\n",
    "        &= \\left(2\\pi\\sigma_i^2\\right)^{-\\frac{D}{2}} \\exp\\left( -\\frac{\\| x_j - x_i \\|^2}{2\\sigma_i^2} \\right), \\\\\n",
    "      s_{\\text{low}}(y_j | y_i)\n",
    "        &= \\left(2\\pi\\right)^{-\\frac{d}{2}} \\exp\\left( -\\frac{\\| y_j - y_i \\|^2}{2} \\right).\n",
    "    \\end{split}\\label{eq:sne_s}\n",
    "    \\end{align}\n",
    "    With this choice, the normalization constants cancel out when computing $p_{j|i}$ and $q_{j|i}$.\n",
    "    Note that this approach gives a per-observation variance $\\sigma_i^2$, such that different points effectively can have different sizes of neighborhoods. To determine the $\\sigma_i^2$ parameters, the user specifies a perplexity parameter, which can be thought of as a measure of the effective number of neighbors \\cite{vanDerMaaten2008}. This is defined as\n",
    "    \\begin{align}\n",
    "      \\text{perplexity} = 2^{H\\left(P_i\\right)},\n",
    "      \\label{eq:perplexity}\n",
    "    \\end{align}\n",
    "    where $H\\left(P_i\\right)$ is the Shannon entropy of $P_i$ in bits:\n",
    "    \\begin{align}\n",
    "      H\\left(P_i\\right) = - \\sum_{j} p_{j|i} \\log_2 p_{j|i}.\n",
    "    \\end{align}\n",
    "    For a specific user-provided value of the perplexity parameter, we can perform a binary search over $\\sigma_i^2$ such that holds. In practice, the user experiments with different choices of perplexities to see which reveals a pattern.\n",
    "\n",
    "## The t-distributed stochastic neighbor embedding\n",
    "\n",
    "The most popular variant of SNE is the *t-distributed SNE*. This is motivated by the so-called 'crowding problem' often observed in SNE, where the low-dimensional representations significantly overlap without revealing much underlying structure. The idea is to use a similarity in representation space with more heavy tails than the Gaussian. Specifically, $s_{\\text{low}}$ is chosen as a $t$-distribution with one degree of freedom centered around one representation, i.e.\n",
    "\\begin{align}\n",
    "  s_{\\text{low}}(y_j | y_i)\n",
    "    &= \\pi^{-1} \\left( 1 + \\|y_j - y_i\\|^2 \\right)^{-1}.\n",
    "\\end{align}\n",
    "    \n",
    "  As is evident, t-SNE needs to compute all pairwise distances between data points and therefore has quadratic complexity. Using approximation techniques, such as vantage-point trees or the *Barnes-Hut approximation*, the running time can be lowered down to having $\\mathcal{O}(n \\log n)$ complexity"
   ]
  },
  {
   "cell_type": "markdown",
   "id": "93e597ca",
   "metadata": {},
   "source": [
    "# 3. Implementation of Rie-SNE"
   ]
  },
  {
   "cell_type": "markdown",
   "id": "bec3c2a5",
   "metadata": {},
   "source": [
    "## The Rie-SNE Algorithm\n"
   ]
  },
  {
   "cell_type": "markdown",
   "id": "4f062213",
   "metadata": {},
   "source": [
    "### See the file `riesne.py` for the implementation details of Rie-SNE."
   ]
  },
  {
   "cell_type": "markdown",
   "id": "f30b9645",
   "metadata": {},
   "source": [
    "# 4. Test on Synthetic Datasets and Benchmark"
   ]
  },
  {
   "cell_type": "markdown",
   "id": "04ebdd0c",
   "metadata": {},
   "source": [
    "## Benchmark"
   ]
  },
  {
   "cell_type": "markdown",
   "id": "efb02dc4",
   "metadata": {},
   "source": [
    "# 5. Rie-SNE on MNIST"
   ]
  },
  {
   "cell_type": "markdown",
   "id": "fd0ae3fc",
   "metadata": {},
   "source": [
    "### Rie-SNE visualization"
   ]
  },
  {
   "cell_type": "markdown",
   "id": "8f6bd414",
   "metadata": {},
   "source": [
    "... some description ..."
   ]
  },
  {
   "cell_type": "code",
   "execution_count": 2,
   "id": "8b30ff43",
   "metadata": {},
   "outputs": [
    {
     "name": "stdout",
     "output_type": "stream",
     "text": [
      "[Rie-SNE] Starting Rie-SNE ...\n"
     ]
    },
    {
     "data": {
      "application/vnd.jupyter.widget-view+json": {
       "model_id": "16bb60d08d20400aaff4306b5d8b85ac",
       "version_major": 2,
       "version_minor": 0
      },
      "text/plain": [
       "Output()"
      ]
     },
     "metadata": {},
     "output_type": "display_data"
    },
    {
     "data": {
      "text/html": [
       "<pre style=\"white-space:pre;overflow-x:auto;line-height:normal;font-family:Menlo,'DejaVu Sans Mono',consolas,'Courier New',monospace\"></pre>\n"
      ],
      "text/plain": []
     },
     "metadata": {},
     "output_type": "display_data"
    },
    {
     "data": {
      "text/html": [
       "<pre style=\"white-space:pre;overflow-x:auto;line-height:normal;font-family:Menlo,'DejaVu Sans Mono',consolas,'Courier New',monospace\">\n",
       "</pre>\n"
      ],
      "text/plain": [
       "\n"
      ]
     },
     "metadata": {},
     "output_type": "display_data"
    },
    {
     "name": "stdout",
     "output_type": "stream",
     "text": [
      "[Rie-SNE] Mean variance:0.053812114397684734\n",
      "[Rie-SNE] KL divergence after 250 iterations with early exaggeration: 41.93346405029297\n",
      "[Rie-SNE] KL divergence after 1000 iterations: 0.9677731990814209\n"
     ]
    },
    {
     "data": {
      "image/png": "[encoded data removed]",
      "text/plain": [
       "<Figure size 432x288 with 1 Axes>"
      ]
     },
     "metadata": {},
     "output_type": "display_data"
    }
   ],
   "source": [
    "import torch\n",
    "import torchvision.datasets\n",
    "from riesne import Riesne\n",
    "from models.sphere import Sphere\n",
    "\n",
    "\n",
    "def mnist_test():\n",
    "    # Determine model.\n",
    "    model = Sphere(784)\n",
    "\n",
    "    # Load data.\n",
    "    subset_size = 300 # -1 equals the entire data set.\n",
    "    label_thresh = 2 # Include only a subset of MNIST classes.\n",
    "\n",
    "    mnist_data = torchvision.datasets.MNIST('data/', train=True, download=True)\n",
    "    X = mnist_data.data.reshape(-1, 784).float() / 255\n",
    "    Y = mnist_data.targets\n",
    "\n",
    "    idx = Y < label_thresh # Only use digits 0, 1, 2, ...\n",
    "    X = X[idx][:subset_size]\n",
    "    Y = Y[idx][:subset_size]\n",
    "\n",
    "    # Project MNIST data onto sphere.\n",
    "    X /= X.norm(dim=1).unsqueeze(1)\n",
    "\n",
    "    # Run Rie-SNE.\n",
    "    print(f\"[Rie-SNE] Starting Rie-SNE ...\")\n",
    "    riesne = Riesne(model, n_components=3, init='sphere')\n",
    "    transformed = riesne.fit_transform(X.cpu().numpy())\n",
    "    model.plot_points(transformed, Y, 'Rie-SNE')\n",
    "\n",
    "mnist_test()"
   ]
  },
  {
   "cell_type": "markdown",
   "id": "e48df4bf",
   "metadata": {},
   "source": [
    "```{bibliography}\n",
    "```"
   ]
  }
 ],
 "metadata": {
  "kernelspec": {
   "display_name": "Python 3 (ipykernel)",
   "language": "python",
   "name": "python3"
  },
  "language_info": {
   "codemirror_mode": {
    "name": "ipython",
    "version": 3
   },
   "file_extension": ".py",
   "mimetype": "text/x-python",
   "name": "python",
   "nbconvert_exporter": "python",
   "pygments_lexer": "ipython3",
   "version": "3.9.10"
  }
 },
 "nbformat": 4,
 "nbformat_minor": 5
}
